{
  "cells": [
    {
      "cell_type": "code",
      "execution_count": 1,
      "metadata": {
        "id": "pBXE3Dz3NI4A",
        "colab": {
          "base_uri": "https://localhost:8080/"
        },
        "outputId": "db0bd3fa-b8a8-4c75-9c00-f3d40c1409a9"
      },
      "outputs": [
        {
          "output_type": "stream",
          "name": "stdout",
          "text": [
            "\u001b[?25l\r\u001b[K     |▊                               | 10 kB 22.0 MB/s eta 0:00:01\r\u001b[K     |█▍                              | 20 kB 29.6 MB/s eta 0:00:01\r\u001b[K     |██▏                             | 30 kB 25.5 MB/s eta 0:00:01\r\u001b[K     |██▉                             | 40 kB 18.8 MB/s eta 0:00:01\r\u001b[K     |███▌                            | 51 kB 12.9 MB/s eta 0:00:01\r\u001b[K     |████▎                           | 61 kB 12.1 MB/s eta 0:00:01\r\u001b[K     |█████                           | 71 kB 11.9 MB/s eta 0:00:01\r\u001b[K     |█████▊                          | 81 kB 13.4 MB/s eta 0:00:01\r\u001b[K     |██████▍                         | 92 kB 13.4 MB/s eta 0:00:01\r\u001b[K     |███████                         | 102 kB 13.0 MB/s eta 0:00:01\r\u001b[K     |███████▉                        | 112 kB 13.0 MB/s eta 0:00:01\r\u001b[K     |████████▌                       | 122 kB 13.0 MB/s eta 0:00:01\r\u001b[K     |█████████▏                      | 133 kB 13.0 MB/s eta 0:00:01\r\u001b[K     |██████████                      | 143 kB 13.0 MB/s eta 0:00:01\r\u001b[K     |██████████▋                     | 153 kB 13.0 MB/s eta 0:00:01\r\u001b[K     |███████████▍                    | 163 kB 13.0 MB/s eta 0:00:01\r\u001b[K     |████████████                    | 174 kB 13.0 MB/s eta 0:00:01\r\u001b[K     |████████████▊                   | 184 kB 13.0 MB/s eta 0:00:01\r\u001b[K     |█████████████▌                  | 194 kB 13.0 MB/s eta 0:00:01\r\u001b[K     |██████████████▏                 | 204 kB 13.0 MB/s eta 0:00:01\r\u001b[K     |██████████████▉                 | 215 kB 13.0 MB/s eta 0:00:01\r\u001b[K     |███████████████▋                | 225 kB 13.0 MB/s eta 0:00:01\r\u001b[K     |████████████████▎               | 235 kB 13.0 MB/s eta 0:00:01\r\u001b[K     |█████████████████               | 245 kB 13.0 MB/s eta 0:00:01\r\u001b[K     |█████████████████▊              | 256 kB 13.0 MB/s eta 0:00:01\r\u001b[K     |██████████████████▍             | 266 kB 13.0 MB/s eta 0:00:01\r\u001b[K     |███████████████████▏            | 276 kB 13.0 MB/s eta 0:00:01\r\u001b[K     |███████████████████▉            | 286 kB 13.0 MB/s eta 0:00:01\r\u001b[K     |████████████████████▌           | 296 kB 13.0 MB/s eta 0:00:01\r\u001b[K     |█████████████████████▎          | 307 kB 13.0 MB/s eta 0:00:01\r\u001b[K     |██████████████████████          | 317 kB 13.0 MB/s eta 0:00:01\r\u001b[K     |██████████████████████▊         | 327 kB 13.0 MB/s eta 0:00:01\r\u001b[K     |███████████████████████▍        | 337 kB 13.0 MB/s eta 0:00:01\r\u001b[K     |████████████████████████        | 348 kB 13.0 MB/s eta 0:00:01\r\u001b[K     |████████████████████████▉       | 358 kB 13.0 MB/s eta 0:00:01\r\u001b[K     |█████████████████████████▌      | 368 kB 13.0 MB/s eta 0:00:01\r\u001b[K     |██████████████████████████▏     | 378 kB 13.0 MB/s eta 0:00:01\r\u001b[K     |███████████████████████████     | 389 kB 13.0 MB/s eta 0:00:01\r\u001b[K     |███████████████████████████▋    | 399 kB 13.0 MB/s eta 0:00:01\r\u001b[K     |████████████████████████████▍   | 409 kB 13.0 MB/s eta 0:00:01\r\u001b[K     |█████████████████████████████   | 419 kB 13.0 MB/s eta 0:00:01\r\u001b[K     |█████████████████████████████▊  | 430 kB 13.0 MB/s eta 0:00:01\r\u001b[K     |██████████████████████████████▌ | 440 kB 13.0 MB/s eta 0:00:01\r\u001b[K     |███████████████████████████████▏| 450 kB 13.0 MB/s eta 0:00:01\r\u001b[K     |███████████████████████████████▉| 460 kB 13.0 MB/s eta 0:00:01\r\u001b[K     |████████████████████████████████| 462 kB 13.0 MB/s \n",
            "\u001b[?25h  Building wheel for lifetime-value (setup.py) ... \u001b[?25l\u001b[?25hdone\n"
          ]
        }
      ],
      "source": [
        "import os\n",
        "\n",
        "import numpy as np\n",
        "import pandas as pd\n",
        "from scipy import stats\n",
        "import matplotlib.pyplot as plt\n",
        "import seaborn as sns\n",
        "import tensorflow as tf\n",
        "import tensorflow_probability as tfp\n",
        "from typing import Sequence\n",
        "\n",
        "# install and import ltv\n",
        "!pip install -q git+https://github.com/google/lifetime_value\n",
        "import lifetime_value as ltv"
      ]
    },
    {
      "cell_type": "code",
      "execution_count": 2,
      "metadata": {
        "id": "Bq0Ah16lBmgV"
      },
      "outputs": [],
      "source": [
        "tfd = tfp.distributions\n",
        "%config InlineBackend.figure_format='retina'\n",
        "sns.set_style('whitegrid')"
      ]
    },
    {
      "cell_type": "markdown",
      "metadata": {
        "id": "2qN319qZK3IG"
      },
      "source": [
        "## Configs"
      ]
    },
    {
      "cell_type": "code",
      "execution_count": 3,
      "metadata": {
        "id": "hNy_ybw_K19n"
      },
      "outputs": [],
      "source": [
        "MODEL = 'dnn'\n",
        "LOSS = 'ziln' # @param { isTemplate: true, type: 'string'} ['mse', 'ziln']\n",
        "LEARNING_RATE = 0.001  # @param { isTemplate: true}\n",
        "VERSION = 0 # @param { isTemplate: true, type: 'integer'}\n",
        "OUTPUT_CSV_FOLDER = '/tmp/lifetime-value/kdd_cup_98/result' # @param { isTemplate: true, type: 'string'}"
      ]
    },
    {
      "cell_type": "markdown",
      "metadata": {
        "id": "mDSR921CCEcL"
      },
      "source": [
        "## Load data"
      ]
    },
    {
      "cell_type": "markdown",
      "metadata": {
        "id": "lHxp4rOGI02Q"
      },
      "source": [
        "Download kdd_cup_98 data to /tmp/lifetime-value/kdd_cup_98"
      ]
    },
    {
      "cell_type": "code",
      "execution_count": 4,
      "metadata": {
        "id": "Dg3qtgJyJpdi",
        "outputId": "4fca361e-2ef2-4b5d-8b39-75be6b6fe91c",
        "colab": {
          "base_uri": "https://localhost:8080/"
        }
      },
      "outputs": [
        {
          "output_type": "stream",
          "name": "stdout",
          "text": [
            "--2022-02-15 17:42:48--  https://archive.ics.uci.edu/ml/machine-learning-databases/kddcup98-mld/epsilon_mirror/cup98lrn.zip\n",
            "Resolving archive.ics.uci.edu (archive.ics.uci.edu)... 128.195.10.252\n",
            "Connecting to archive.ics.uci.edu (archive.ics.uci.edu)|128.195.10.252|:443... connected.\n",
            "HTTP request sent, awaiting response... 200 OK\n",
            "Length: 36468735 (35M) [application/x-httpd-php]\n",
            "Saving to: ‘/tmp/lifetime-value/kdd_cup_98/cup98lrn.zip’\n",
            "\n",
            "cup98lrn.zip        100%[===================>]  34.78M  12.8MB/s    in 2.7s    \n",
            "\n",
            "2022-02-15 17:42:51 (12.8 MB/s) - ‘/tmp/lifetime-value/kdd_cup_98/cup98lrn.zip’ saved [36468735/36468735]\n",
            "\n",
            "--2022-02-15 17:42:51--  https://archive.ics.uci.edu/ml/machine-learning-databases/kddcup98-mld/epsilon_mirror/cup98val.zip\n",
            "Resolving archive.ics.uci.edu (archive.ics.uci.edu)... 128.195.10.252\n",
            "Connecting to archive.ics.uci.edu (archive.ics.uci.edu)|128.195.10.252|:443... connected.\n",
            "HTTP request sent, awaiting response... 200 OK\n",
            "Length: 36763018 (35M) [application/x-httpd-php]\n",
            "Saving to: ‘/tmp/lifetime-value/kdd_cup_98/cup98val.zip’\n",
            "\n",
            "cup98val.zip        100%[===================>]  35.06M  12.8MB/s    in 2.7s    \n",
            "\n",
            "2022-02-15 17:42:55 (12.8 MB/s) - ‘/tmp/lifetime-value/kdd_cup_98/cup98val.zip’ saved [36763018/36763018]\n",
            "\n",
            "--2022-02-15 17:42:55--  https://archive.ics.uci.edu/ml/machine-learning-databases/kddcup98-mld/epsilon_mirror/valtargt.txt\n",
            "Resolving archive.ics.uci.edu (archive.ics.uci.edu)... 128.195.10.252\n",
            "Connecting to archive.ics.uci.edu (archive.ics.uci.edu)|128.195.10.252|:443... connected.\n",
            "HTTP request sent, awaiting response... 200 OK\n",
            "Length: 1104529 (1.1M) [application/x-httpd-php]\n",
            "Saving to: ‘/tmp/lifetime-value/kdd_cup_98/valtargt.txt’\n",
            "\n",
            "valtargt.txt        100%[===================>]   1.05M  1.18MB/s    in 0.9s    \n",
            "\n",
            "2022-02-15 17:42:56 (1.18 MB/s) - ‘/tmp/lifetime-value/kdd_cup_98/valtargt.txt’ saved [1104529/1104529]\n",
            "\n",
            "Archive:  cup98lrn.zip\n",
            "  inflating: cup98LRN.txt            \n",
            "Archive:  cup98val.zip\n",
            "  inflating: cup98VAL.txt            \n"
          ]
        },
        {
          "output_type": "execute_result",
          "data": {
            "text/plain": [
              ""
            ]
          },
          "metadata": {},
          "execution_count": 4
        }
      ],
      "source": [
        "%%shell\n",
        "mkdir -p /tmp/lifetime-value/kdd_cup_98\n",
        "wget https://archive.ics.uci.edu/ml/machine-learning-databases/kddcup98-mld/epsilon_mirror/cup98lrn.zip -P /tmp/lifetime-value/kdd_cup_98/\n",
        "wget https://archive.ics.uci.edu/ml/machine-learning-databases/kddcup98-mld/epsilon_mirror/cup98val.zip -P /tmp/lifetime-value/kdd_cup_98/\n",
        "wget https://archive.ics.uci.edu/ml/machine-learning-databases/kddcup98-mld/epsilon_mirror/valtargt.txt -P /tmp/lifetime-value/kdd_cup_98/\n",
        "cd /tmp/lifetime-value/kdd_cup_98/\n",
        "unzip cup98lrn.zip\n",
        "unzip cup98val.zip"
      ]
    },
    {
      "cell_type": "code",
      "execution_count": 5,
      "metadata": {
        "id": "a_LnLmQQRlYF",
        "colab": {
          "base_uri": "https://localhost:8080/"
        },
        "outputId": "b11f5703-be38-4ac9-affb-976b1f7d2c81"
      },
      "outputs": [
        {
          "output_type": "stream",
          "name": "stderr",
          "text": [
            "/usr/local/lib/python3.7/dist-packages/IPython/core/interactiveshell.py:2882: DtypeWarning: Columns (8) have mixed types.Specify dtype option on import or set low_memory=False.\n",
            "  exec(code_obj, self.user_global_ns, self.user_ns)\n"
          ]
        }
      ],
      "source": [
        "df_train = pd.read_csv('/tmp/lifetime-value/kdd_cup_98/cup98LRN.txt')\n",
        "num_train = df_train.shape[0]\n",
        "df_eval = pd.read_csv('/tmp/lifetime-value/kdd_cup_98/cup98VAL.txt')\n",
        "df_eval_target = pd.read_csv('/tmp/lifetime-value/kdd_cup_98/valtargt.txt')\n",
        "df_eval = df_eval.merge(df_eval_target, on='CONTROLN')"
      ]
    },
    {
      "cell_type": "code",
      "execution_count": 54,
      "metadata": {
        "id": "ggQmy9wiP5M6"
      },
      "outputs": [],
      "source": [
        "df = pd.concat([df_train, df_eval], axis=0, sort=True)"
      ]
    },
    {
      "cell_type": "markdown",
      "metadata": {
        "id": "0rgxHpIyjaMH"
      },
      "source": [
        "## Label distribution"
      ]
    },
    {
      "cell_type": "code",
      "execution_count": 55,
      "metadata": {
        "id": "Xmpu_d3YjcFC"
      },
      "outputs": [],
      "source": [
        "y = df['TARGET_D'][:num_train]\n",
        "# x = df.iloc[:, 1:-1].values\n",
        "# y = df.iloc[:, 2].values"
      ]
    },
    {
      "cell_type": "code",
      "source": [
        "# from sklearn.model_selection import train_test_split\n",
        "# x_train, x_test, y_train, y_test = train_test_split(x,y, test_size = 1/3 , random_state = 0)"
      ],
      "metadata": {
        "id": "4TCOE_qShc8Z"
      },
      "execution_count": 50,
      "outputs": []
    },
    {
      "cell_type": "code",
      "source": [
        "# from sklearn.linear_model import LinearRegression\n",
        "# regressor = LinearRegression()\n",
        "# regressor.fit(x_train,y_train)"
      ],
      "metadata": {
        "id": "l3_QF_BghlwC"
      },
      "execution_count": 53,
      "outputs": []
    },
    {
      "cell_type": "code",
      "execution_count": 56,
      "metadata": {
        "id": "yMr2EDRyK5Sb"
      },
      "outputs": [],
      "source": [
        "def plot_hist_log_scale(y):\n",
        "  max_val = y.max() + 1. \n",
        "  ax = pd.Series(y).hist(\n",
        "      figsize=(8, 5), bins = 10 ** np.linspace(0., np.log10(max_val), 20))\n",
        "\n",
        "  plt.xlabel('Donation ($)')\n",
        "  plt.ylabel('Count')\n",
        "  # plt.title('Histogram of LTV')\n",
        "  plt.xticks(rotation='horizontal')\n",
        "  plt.legend(loc='upper left')\n",
        "  ax.set_xscale('log')\n",
        "  ax.grid(False)\n",
        "  # Hide the right and top spines\n",
        "  ax.spines['right'].set_visible(False)\n",
        "  ax.spines['top'].set_visible(False)\n",
        "  # Only show ticks on the left and bottom spines\n",
        "  ax.yaxis.set_ticks_position('left')\n",
        "  ax.xaxis.set_ticks_position('bottom')\n",
        "  plt.show()\n",
        "\n",
        "  fig = ax.get_figure()\n",
        "  output_file = tf.io.gfile.GFile(\n",
        "          '/tmp/lifetime-value/kdd_cup_98/histogram_kdd98_log_scale.pdf',\n",
        "          'wb')\n",
        "  fig.savefig(output_file, bbox_inches='tight', format='pdf')"
      ]
    },
    {
      "cell_type": "code",
      "execution_count": 9,
      "metadata": {
        "id": "KbwCzGkBOWhH",
        "colab": {
          "base_uri": "https://localhost:8080/",
          "height": 351
        },
        "outputId": "ee05ec6c-e2cd-4f7f-8020-310af3f693da"
      },
      "outputs": [
        {
          "output_type": "stream",
          "name": "stderr",
          "text": [
            "No handles with labels found to put in legend.\n"
          ]
        },
        {
          "output_type": "display_data",
          "data": {
            "image/png": "[encoded data removed]",
            "text/plain": [
              "<Figure size 576x360 with 1 Axes>"
            ]
          },
          "metadata": {
            "image/png": {
              "width": 506,
              "height": 317
            }
          }
        }
      ],
      "source": [
        "plot_hist_log_scale(y[y>0])"
      ]
    },
    {
      "cell_type": "markdown",
      "metadata": {
        "id": "L1sBf_RSU3pR"
      },
      "source": [
        "### Vocab"
      ]
    },
    {
      "cell_type": "code",
      "execution_count": 10,
      "metadata": {
        "id": "xB_ddsd_U_4e"
      },
      "outputs": [],
      "source": [
        "VOCAB_FEATURES = [\n",
        "    'ODATEDW',  # date of donor's first gift (YYMM)\n",
        "    'OSOURCE',  # donor acquisition mailing list\n",
        "    'TCODE',    # donor title code\n",
        "    'STATE',\n",
        "    'ZIP',\n",
        "    'DOMAIN',   # urbanicity level and socio-economic status of the neighborhood\n",
        "    'CLUSTER',  # socio-economic status\n",
        "    'GENDER',\n",
        "    'MAXADATE', # date of the most recent promotion received\n",
        "    'MINRDATE',\n",
        "    'LASTDATE',\n",
        "    'FISTDATE',\n",
        "    'RFA_2A',\n",
        "]"
      ]
    },
    {
      "cell_type": "code",
      "execution_count": 11,
      "metadata": {
        "id": "f2oPZGVLRSPe"
      },
      "outputs": [],
      "source": [
        "df['ODATEDW'] = df['ODATEDW'].astype('str')\n",
        "df['TCODE'] = df['TCODE'].apply(\n",
        "    lambda x: '{:03d}'.format(x // 1000 if x > 1000 else x))\n",
        "df['ZIP'] = df['ZIP'].str.slice(0, 5)\n",
        "df['MAXADATE'] = df['MAXADATE'].astype('str')\n",
        "df['MINRDATE'] = df['MINRDATE'].astype('str')\n",
        "df['LASTDATE'] = df['LASTDATE'].astype('str')\n",
        "df['FISTDATE'] = df['FISTDATE'].astype('str')"
      ]
    },
    {
      "cell_type": "code",
      "execution_count": 12,
      "metadata": {
        "id": "isL9Ofv9JLAP"
      },
      "outputs": [],
      "source": [
        "def label_encoding(y, frequency_threshold=100):\n",
        "  value_counts = pd.value_counts(y)\n",
        "  categories = value_counts[\n",
        "      value_counts >= frequency_threshold].index.to_numpy()\n",
        "  # 0 indicates the unknown category.\n",
        "  return pd.Categorical(y, categories=categories).codes + 1"
      ]
    },
    {
      "cell_type": "code",
      "execution_count": 13,
      "metadata": {
        "id": "BgXGO5D0OdJP"
      },
      "outputs": [],
      "source": [
        "for key in VOCAB_FEATURES:\n",
        "  df[key] = label_encoding(df[key])"
      ]
    },
    {
      "cell_type": "markdown",
      "metadata": {
        "id": "kZkmnJ93Zrjw"
      },
      "source": [
        "### Indicator"
      ]
    },
    {
      "cell_type": "code",
      "execution_count": 14,
      "metadata": {
        "id": "tGBpMfaGhCD0"
      },
      "outputs": [],
      "source": [
        "MAIL_ORDER_RESPONSES = [\n",
        "    'MBCRAFT',\n",
        "    'MBGARDEN',\n",
        "    'MBBOOKS',\n",
        "    'MBCOLECT',\n",
        "    'MAGFAML',\n",
        "    'MAGFEM',\n",
        "    'MAGMALE',\n",
        "    'PUBGARDN',\n",
        "    'PUBCULIN',\n",
        "    'PUBHLTH',\n",
        "    'PUBDOITY',\n",
        "    'PUBNEWFN',\n",
        "    'PUBPHOTO',\n",
        "    'PUBOPP',\n",
        "    'RFA_2F',\n",
        "]"
      ]
    },
    {
      "cell_type": "code",
      "execution_count": 15,
      "metadata": {
        "id": "4V-DeOZFZhjB"
      },
      "outputs": [],
      "source": [
        "INDICATOR_FEATURES = [\n",
        "    'AGE',  # age decile, 0 indicates unknown\n",
        "    'NUMCHLD',\n",
        "    'INCOME',\n",
        "    'WEALTH1',\n",
        "    'HIT',\n",
        "] + MAIL_ORDER_RESPONSES"
      ]
    },
    {
      "cell_type": "code",
      "execution_count": 16,
      "metadata": {
        "id": "U9y5qA1vZ0kz"
      },
      "outputs": [],
      "source": [
        "df['AGE'] = pd.qcut(df['AGE'].values, 10).codes + 1\n",
        "df['NUMCHLD'] = df['NUMCHLD'].apply(lambda x: 0 if np.isnan(x) else int(x))\n",
        "df['INCOME'] = df['INCOME'].apply(lambda x: 0 if np.isnan(x) else int(x))\n",
        "df['WEALTH1'] = df['WEALTH1'].apply(lambda x: 0 if np.isnan(x) else int(x) + 1)\n",
        "df['HIT'] = pd.qcut(df['HIT'].values, q=50, duplicates='drop').codes\n",
        "\n",
        "for col in MAIL_ORDER_RESPONSES:\n",
        "  df[col] = pd.qcut(df[col].values, q=20, duplicates='drop').codes + 1"
      ]
    },
    {
      "cell_type": "markdown",
      "metadata": {
        "id": "8DOO_2a-U6gr"
      },
      "source": [
        "### Numeric"
      ]
    },
    {
      "cell_type": "code",
      "execution_count": 17,
      "metadata": {
        "id": "rqVteSLDiLVr"
      },
      "outputs": [],
      "source": [
        "NUMERIC_FEATURES = [\n",
        "    # binary\n",
        "    'MAILCODE',  # bad address\n",
        "    'NOEXCH',    # do not exchange\n",
        "    'RECINHSE',  # donor has given to PVA's in house program\n",
        "    'RECP3',     # donor has given to PVA's P3 program\n",
        "    'RECPGVG',   # planned giving record\n",
        "    'RECSWEEP',  # sweepstakes record\n",
        "    'HOMEOWNR',  # home owner\n",
        "    'CHILD03',\n",
        "    'CHILD07',\n",
        "    'CHILD12',\n",
        "    'CHILD18',\n",
        "\n",
        "    # continuous\n",
        "    'CARDPROM',\n",
        "    'NUMPROM',\n",
        "    'CARDPM12',\n",
        "    'NUMPRM12',\n",
        "    'RAMNTALL',\n",
        "    'NGIFTALL',\n",
        "    'MINRAMNT',\n",
        "    'MAXRAMNT',\n",
        "    'LASTGIFT',\n",
        "    'AVGGIFT',\n",
        "]"
      ]
    },
    {
      "cell_type": "code",
      "execution_count": 18,
      "metadata": {
        "id": "xMRP05Ztic0A"
      },
      "outputs": [],
      "source": [
        "df['MAILCODE'] = (df['MAILCODE'] == 'B').astype('float32')\n",
        "df['PVASTATE'] = df['PVASTATE'].isin(['P', 'E']).astype('float32')\n",
        "df['NOEXCH'] = df['NOEXCH'].isin(['X', '1']).astype('float32')\n",
        "df['RECINHSE'] = (df['RECINHSE'] == 'X').astype('float32')\n",
        "df['RECP3'] = (df['RECP3'] == 'X').astype('float32')\n",
        "df['RECPGVG'] = (df['RECPGVG'] == 'X').astype('float32')\n",
        "df['RECSWEEP'] = (df['RECSWEEP'] == 'X').astype('float32')\n",
        "df['HOMEOWNR'] = (df['HOMEOWNR'] == 'H').astype('float32')\n",
        "df['CHILD03'] = df['CHILD03'].isin(['M', 'F', 'B']).astype('float32')\n",
        "df['CHILD07'] = df['CHILD07'].isin(['M', 'F', 'B']).astype('float32')\n",
        "df['CHILD12'] = df['CHILD12'].isin(['M', 'F', 'B']).astype('float32')\n",
        "df['CHILD18'] = df['CHILD18'].isin(['M', 'F', 'B']).astype('float32')\n",
        "\n",
        "df['CARDPROM'] = df['CARDPROM'] / 100\n",
        "df['NUMPROM'] = df['NUMPROM'] / 100\n",
        "df['CARDPM12'] = df['CARDPM12'] / 100\n",
        "df['NUMPRM12'] = df['NUMPRM12'] / 100\n",
        "df['RAMNTALL'] = np.log1p(df['RAMNTALL'])\n",
        "df['NGIFTALL'] = np.log1p(df['NGIFTALL'])\n",
        "df['MINRAMNT'] = np.log1p(df['MINRAMNT'])\n",
        "df['MAXRAMNT'] = np.log1p(df['MAXRAMNT'])\n",
        "df['LASTGIFT'] = np.log1p(df['LASTGIFT'])\n",
        "df['AVGGIFT'] = np.log1p(df['AVGGIFT'])"
      ]
    },
    {
      "cell_type": "markdown",
      "metadata": {
        "id": "GoLg1PvWuCT_"
      },
      "source": [
        "### All"
      ]
    },
    {
      "cell_type": "code",
      "execution_count": 19,
      "metadata": {
        "id": "lSnNgjBCuJdb"
      },
      "outputs": [],
      "source": [
        "CATEGORICAL_FEATURES = VOCAB_FEATURES + INDICATOR_FEATURES\n",
        "ALL_FEATURES = CATEGORICAL_FEATURES + NUMERIC_FEATURES"
      ]
    },
    {
      "cell_type": "markdown",
      "metadata": {
        "id": "8HJBvvCxRPg3"
      },
      "source": [
        "## Train/eval split"
      ]
    },
    {
      "cell_type": "code",
      "execution_count": 20,
      "metadata": {
        "id": "N7BXLB1eHovl"
      },
      "outputs": [],
      "source": [
        "def dnn_split(df):\n",
        "  df_train = df.iloc[:num_train]\n",
        "  df_eval = df.iloc[num_train:]\n",
        "\n",
        "  def feature_dict(df):\n",
        "    features = {k: v.values for k, v in dict(df[CATEGORICAL_FEATURES]).items()}\n",
        "    features['numeric'] = df[NUMERIC_FEATURES].astype('float32').values\n",
        "    return features\n",
        "\n",
        "  x_train, y_train = feature_dict(df_train), df_train['TARGET_D'].astype(\n",
        "      'float32').values\n",
        "  x_eval, y_eval = feature_dict(df_eval), df_eval['TARGET_D'].astype(\n",
        "      'float32').values\n",
        "\n",
        "  return x_train, x_eval, y_train, y_eval"
      ]
    },
    {
      "cell_type": "markdown",
      "metadata": {
        "id": "4yw6fekBtX7X"
      },
      "source": [
        "## Model"
      ]
    },
    {
      "cell_type": "code",
      "execution_count": 21,
      "metadata": {
        "id": "_rIuO0XYtZH2"
      },
      "outputs": [],
      "source": [
        "def embedding_dim(x):\n",
        "  return int(x**.25) + 1\n",
        "\n",
        "\n",
        "def embedding_layer(vocab_size):\n",
        "  return tf.keras.Sequential([\n",
        "      tf.keras.layers.Embedding(\n",
        "          input_dim=vocab_size,\n",
        "          output_dim=embedding_dim(vocab_size),\n",
        "          input_length=1),\n",
        "      tf.keras.layers.Flatten(),\n",
        "  ])\n",
        "\n",
        "\n",
        "def dnn_model(output_units):\n",
        "  numeric_input = tf.keras.layers.Input(\n",
        "      shape=(len(NUMERIC_FEATURES),), name='numeric')\n",
        "\n",
        "  embedding_inputs = [\n",
        "      tf.keras.layers.Input(shape=(1,), name=key, dtype=np.int64)\n",
        "      for key in CATEGORICAL_FEATURES\n",
        "  ]\n",
        "\n",
        "  embedding_outputs = [\n",
        "      embedding_layer(vocab_size=df[key].max() + 1)(input)\n",
        "      for key, input in zip(CATEGORICAL_FEATURES, embedding_inputs)\n",
        "  ]\n",
        "\n",
        "  deep_input = tf.keras.layers.concatenate([numeric_input] + embedding_outputs)\n",
        "  deep_model = tf.keras.Sequential([\n",
        "      tf.keras.layers.Dense(128, activation='relu'),\n",
        "      tf.keras.layers.Dense(128, activation='relu'),\n",
        "      tf.keras.layers.Dense(64, activation='relu'),\n",
        "      tf.keras.layers.Dense(64, activation='relu'),\n",
        "      tf.keras.layers.Dense(units=output_units),\n",
        "  ])\n",
        "  return tf.keras.Model(\n",
        "      inputs=[numeric_input] + embedding_inputs, outputs=deep_model(deep_input))"
      ]
    },
    {
      "cell_type": "markdown",
      "metadata": {
        "id": "G5h7X6botcHl"
      },
      "source": [
        "## Loss"
      ]
    },
    {
      "cell_type": "code",
      "execution_count": 22,
      "metadata": {
        "id": "iJ9gpkC6tgP0"
      },
      "outputs": [],
      "source": [
        "if LOSS == 'mse':\n",
        "  loss = tf.keras.losses.MeanSquaredError()\n",
        "  output_units = 1\n",
        "\n",
        "if LOSS == 'ziln':\n",
        "  loss = ltv.zero_inflated_lognormal_loss\n",
        "  output_units = 3"
      ]
    },
    {
      "cell_type": "code",
      "execution_count": 23,
      "metadata": {
        "id": "_afFfIritjCM"
      },
      "outputs": [],
      "source": [
        "x_train, x_eval, y_train, y_eval = dnn_split(df)\n",
        "model = dnn_model(output_units)"
      ]
    },
    {
      "cell_type": "code",
      "execution_count": 24,
      "metadata": {
        "id": "Qj3kI7pyVwzO",
        "colab": {
          "base_uri": "https://localhost:8080/"
        },
        "outputId": "51e7deeb-3890-4989-eb98-5e5d0cc81c42"
      },
      "outputs": [
        {
          "output_type": "stream",
          "name": "stderr",
          "text": [
            "/usr/local/lib/python3.7/dist-packages/keras/optimizer_v2/nadam.py:73: UserWarning: The `lr` argument is deprecated, use `learning_rate` instead.\n",
            "  super(Nadam, self).__init__(name, **kwargs)\n"
          ]
        }
      ],
      "source": [
        "model.compile(optimizer=tf.keras.optimizers.Nadam(lr=LEARNING_RATE), loss=loss)"
      ]
    },
    {
      "cell_type": "markdown",
      "metadata": {
        "id": "KZSYxgWdwiXC"
      },
      "source": [
        "## Train"
      ]
    },
    {
      "cell_type": "code",
      "execution_count": 25,
      "metadata": {
        "id": "Nwj9h5ysQDLp"
      },
      "outputs": [],
      "source": [
        "callbacks = [\n",
        "    tf.keras.callbacks.ReduceLROnPlateau(monitor='val_loss', min_lr=1e-6),\n",
        "    tf.keras.callbacks.EarlyStopping(monitor='val_loss', patience=10),\n",
        "]"
      ]
    },
    {
      "cell_type": "code",
      "execution_count": 26,
      "metadata": {
        "id": "Vb5Tnld6hsfx",
        "colab": {
          "base_uri": "https://localhost:8080/"
        },
        "outputId": "46a2bb7b-3006-4965-8d1b-f84ce53067b8"
      },
      "outputs": [
        {
          "output_type": "stream",
          "name": "stdout",
          "text": [
            "Epoch 1/200\n",
            "47/47 - 8s - loss: 0.4851 - val_loss: 0.3560 - lr: 0.0010 - 8s/epoch - 166ms/step\n",
            "Epoch 2/200\n",
            "47/47 - 2s - loss: 0.3574 - val_loss: 0.3546 - lr: 0.0010 - 2s/epoch - 33ms/step\n",
            "Epoch 3/200\n",
            "47/47 - 2s - loss: 0.3547 - val_loss: 0.3522 - lr: 0.0010 - 2s/epoch - 33ms/step\n",
            "Epoch 4/200\n",
            "47/47 - 2s - loss: 0.3539 - val_loss: 0.3519 - lr: 0.0010 - 2s/epoch - 32ms/step\n",
            "Epoch 5/200\n",
            "47/47 - 1s - loss: 0.3525 - val_loss: 0.3520 - lr: 0.0010 - 1s/epoch - 25ms/step\n",
            "Epoch 6/200\n",
            "47/47 - 1s - loss: 0.3510 - val_loss: 0.3600 - lr: 0.0010 - 1s/epoch - 26ms/step\n",
            "Epoch 7/200\n",
            "47/47 - 2s - loss: 0.3493 - val_loss: 0.3527 - lr: 0.0010 - 2s/epoch - 32ms/step\n",
            "Epoch 8/200\n",
            "47/47 - 2s - loss: 0.3488 - val_loss: 0.3594 - lr: 0.0010 - 2s/epoch - 32ms/step\n",
            "Epoch 9/200\n",
            "47/47 - 2s - loss: 0.3481 - val_loss: 0.3563 - lr: 0.0010 - 2s/epoch - 32ms/step\n",
            "Epoch 10/200\n",
            "47/47 - 2s - loss: 0.3474 - val_loss: 0.3657 - lr: 0.0010 - 2s/epoch - 32ms/step\n",
            "Epoch 11/200\n",
            "47/47 - 2s - loss: 0.3464 - val_loss: 0.3513 - lr: 0.0010 - 2s/epoch - 33ms/step\n",
            "Epoch 12/200\n",
            "47/47 - 2s - loss: 0.3451 - val_loss: 0.3563 - lr: 0.0010 - 2s/epoch - 33ms/step\n",
            "Epoch 13/200\n",
            "47/47 - 2s - loss: 0.3437 - val_loss: 0.3543 - lr: 0.0010 - 2s/epoch - 33ms/step\n",
            "Epoch 14/200\n",
            "47/47 - 1s - loss: 0.3418 - val_loss: 0.3634 - lr: 0.0010 - 1s/epoch - 26ms/step\n",
            "Epoch 15/200\n",
            "47/47 - 2s - loss: 0.3407 - val_loss: 0.3601 - lr: 0.0010 - 2s/epoch - 32ms/step\n",
            "Epoch 16/200\n",
            "47/47 - 2s - loss: 0.3415 - val_loss: 0.3663 - lr: 0.0010 - 2s/epoch - 32ms/step\n",
            "Epoch 17/200\n",
            "47/47 - 1s - loss: 0.3410 - val_loss: 0.3842 - lr: 0.0010 - 1s/epoch - 26ms/step\n",
            "Epoch 18/200\n",
            "47/47 - 2s - loss: 0.3413 - val_loss: 0.3539 - lr: 0.0010 - 2s/epoch - 32ms/step\n",
            "Epoch 19/200\n",
            "47/47 - 2s - loss: 0.3383 - val_loss: 0.3658 - lr: 0.0010 - 2s/epoch - 32ms/step\n",
            "Epoch 20/200\n",
            "47/47 - 2s - loss: 0.3379 - val_loss: 0.3601 - lr: 0.0010 - 2s/epoch - 32ms/step\n",
            "Epoch 21/200\n",
            "47/47 - 2s - loss: 0.3382 - val_loss: 0.3581 - lr: 0.0010 - 2s/epoch - 33ms/step\n"
          ]
        }
      ],
      "source": [
        "history = model.fit(\n",
        "    x=x_train,\n",
        "    y=y_train,\n",
        "    batch_size=2048,\n",
        "    epochs=200,\n",
        "    verbose=2,\n",
        "    callbacks=callbacks,\n",
        "    validation_data=(x_eval, y_eval)).history"
      ]
    },
    {
      "cell_type": "code",
      "execution_count": 27,
      "metadata": {
        "id": "J1sLSUdgvfa6",
        "colab": {
          "base_uri": "https://localhost:8080/",
          "height": 265
        },
        "outputId": "b82b775b-314c-4675-e4eb-7856d4f03081"
      },
      "outputs": [
        {
          "output_type": "display_data",
          "data": {
            "image/png": "[encoded data removed]",
            "text/plain": [
              "<Figure size 432x288 with 1 Axes>"
            ]
          },
          "metadata": {
            "image/png": {
              "width": 378,
              "height": 248
            }
          }
        }
      ],
      "source": [
        "pd.DataFrame(history)[['loss', 'val_loss']].plot();"
      ]
    },
    {
      "cell_type": "markdown",
      "metadata": {
        "id": "jRKuZBqhvhT9"
      },
      "source": [
        "## Eval"
      ]
    },
    {
      "cell_type": "code",
      "execution_count": 28,
      "metadata": {
        "id": "q9_zNMd3vjNk"
      },
      "outputs": [],
      "source": [
        "if LOSS == 'mse':\n",
        "  y_pred = model.predict(x=x_eval, batch_size=1024).flatten()\n",
        "\n",
        "if LOSS == 'ziln':\n",
        "  logits = model.predict(x=x_eval, batch_size=1024)\n",
        "  y_pred = ltv.zero_inflated_lognormal_pred(logits).numpy().flatten()"
      ]
    },
    {
      "cell_type": "markdown",
      "metadata": {
        "id": "SkfkUMUvUu_E"
      },
      "source": [
        "### Total Profit"
      ]
    },
    {
      "cell_type": "code",
      "execution_count": 29,
      "metadata": {
        "id": "AwfWAp8WQuns"
      },
      "outputs": [],
      "source": [
        "unit_costs = [0.4, 0.5, 0.6, 0.68, 0.7, 0.8, 0.9, 1.0]"
      ]
    },
    {
      "cell_type": "code",
      "execution_count": 30,
      "metadata": {
        "id": "zqi91dfCUxpx",
        "colab": {
          "base_uri": "https://localhost:8080/"
        },
        "outputId": "da4ea5d2-9fed-480c-8af3-b20d3905b162"
      },
      "outputs": [
        {
          "output_type": "execute_result",
          "data": {
            "text/plain": [
              "[90096, 80404, 67015, 55471, 52694, 39260, 27743, 18761]"
            ]
          },
          "metadata": {},
          "execution_count": 30
        }
      ],
      "source": [
        "num_mailed = [np.sum(y_pred > v) for v in unit_costs]\n",
        "num_mailed"
      ]
    },
    {
      "cell_type": "code",
      "execution_count": 31,
      "metadata": {
        "id": "ZgFjZUcuhScv",
        "colab": {
          "base_uri": "https://localhost:8080/"
        },
        "outputId": "aa0105a8-1aa4-4ee7-bfb0-04556497383e"
      },
      "outputs": [
        {
          "output_type": "execute_result",
          "data": {
            "text/plain": [
              "10560.074"
            ]
          },
          "metadata": {},
          "execution_count": 31
        }
      ],
      "source": [
        "baseline_total_profit = np.sum(y_eval - 0.68)\n",
        "baseline_total_profit"
      ]
    },
    {
      "cell_type": "code",
      "execution_count": 32,
      "metadata": {
        "id": "VwsFnin5U-R9",
        "colab": {
          "base_uri": "https://localhost:8080/"
        },
        "outputId": "f74aecf9-15c2-4c7e-d0be-a5780a067744"
      },
      "outputs": [
        {
          "output_type": "execute_result",
          "data": {
            "text/plain": [
              "[37133.24,\n",
              " 28405.14,\n",
              " 20239.139,\n",
              " 15020.856,\n",
              " 14103.342,\n",
              " 9779.139,\n",
              " 6935.0723,\n",
              " 5350.95]"
            ]
          },
          "metadata": {},
          "execution_count": 32
        }
      ],
      "source": [
        "total_profits = [np.sum(y_eval[y_pred > v] - v) for v in unit_costs]\n",
        "total_profits"
      ]
    },
    {
      "cell_type": "markdown",
      "metadata": {
        "id": "zROhsEWxnA5u"
      },
      "source": [
        "### Gini Coefficient"
      ]
    },
    {
      "cell_type": "code",
      "execution_count": 33,
      "metadata": {
        "id": "gRsJ7y-632h_"
      },
      "outputs": [],
      "source": [
        "gain = pd.DataFrame({\n",
        "    'lorenz': ltv.cumulative_true(y_eval, y_eval),\n",
        "    'baseline': ltv.cumulative_true(y_eval, x_eval['numeric'][:, 19]),\n",
        "    'model': ltv.cumulative_true(y_eval, y_pred),\n",
        "})"
      ]
    },
    {
      "cell_type": "code",
      "execution_count": 34,
      "metadata": {
        "id": "yg-ndbve4AL_"
      },
      "outputs": [],
      "source": [
        "num_customers = np.float32(gain.shape[0])\n",
        "gain['cumulative_customer'] = (np.arange(num_customers) + 1.) / num_customers"
      ]
    },
    {
      "cell_type": "code",
      "execution_count": 35,
      "metadata": {
        "id": "WEoAvuCj4OVy",
        "colab": {
          "base_uri": "https://localhost:8080/",
          "height": 348
        },
        "outputId": "650728e8-bc63-465e-a84f-ca8f18935fa0"
      },
      "outputs": [
        {
          "output_type": "display_data",
          "data": {
            "image/png": "[encoded data removed]",
            "text/plain": [
              "<Figure size 576x360 with 1 Axes>"
            ]
          },
          "metadata": {
            "image/png": {
              "width": 505,
              "height": 331
            }
          }
        }
      ],
      "source": [
        "ax = gain[[\n",
        "    'cumulative_customer',\n",
        "    'lorenz',\n",
        "    'baseline',\n",
        "    'model',\n",
        "]].plot(\n",
        "    x='cumulative_customer', figsize=(8, 5), legend=True)\n",
        "\n",
        "ax.legend(['Groundtruth', 'Baseline', 'Model'], loc='lower right')\n",
        "\n",
        "ax.set_xlabel('Cumulative Fraction of Customers')\n",
        "ax.set_xticks(np.arange(0, 1.1, 0.1))\n",
        "ax.set_xlim((0, 1.))\n",
        "\n",
        "ax.set_ylabel('Cumulative Fraction of Total Lifetime Value')\n",
        "ax.set_yticks(np.arange(0, 1.1, 0.1))\n",
        "ax.set_ylim((0, 1.05))\n",
        "ax.set_title('Gain Chart');"
      ]
    },
    {
      "cell_type": "code",
      "execution_count": 36,
      "metadata": {
        "id": "kzPqaiNO4iWC",
        "colab": {
          "base_uri": "https://localhost:8080/",
          "height": 143
        },
        "outputId": "19518a71-de2a-4c32-f6d5-572ec6e94210"
      },
      "outputs": [
        {
          "output_type": "execute_result",
          "data": {
            "text/html": [
              "\n",
              "  <div id=\"df-7e8b2e5a-9399-4461-8679-9c4dfecef8b4\">\n",
              "    <div class=\"colab-df-container\">\n",
              "      <div>\n",
              "<style scoped>\n",
              "    .dataframe tbody tr th:only-of-type {\n",
              "        vertical-align: middle;\n",
              "    }\n",
              "\n",
              "    .dataframe tbody tr th {\n",
              "        vertical-align: top;\n",
              "    }\n",
              "\n",
              "    .dataframe thead th {\n",
              "        text-align: right;\n",
              "    }\n",
              "</style>\n",
              "<table border=\"1\" class=\"dataframe\">\n",
              "  <thead>\n",
              "    <tr style=\"text-align: right;\">\n",
              "      <th></th>\n",
              "      <th>raw</th>\n",
              "      <th>normalized</th>\n",
              "    </tr>\n",
              "  </thead>\n",
              "  <tbody>\n",
              "    <tr>\n",
              "      <th>lorenz</th>\n",
              "      <td>0.967057</td>\n",
              "      <td>1.000000</td>\n",
              "    </tr>\n",
              "    <tr>\n",
              "      <th>baseline</th>\n",
              "      <td>0.125138</td>\n",
              "      <td>0.129401</td>\n",
              "    </tr>\n",
              "    <tr>\n",
              "      <th>model</th>\n",
              "      <td>0.193120</td>\n",
              "      <td>0.199699</td>\n",
              "    </tr>\n",
              "  </tbody>\n",
              "</table>\n",
              "</div>\n",
              "      <button class=\"colab-df-convert\" onclick=\"convertToInteractive('df-7e8b2e5a-9399-4461-8679-9c4dfecef8b4')\"\n",
              "              title=\"Convert this dataframe to an interactive table.\"\n",
              "              style=\"display:none;\">\n",
              "        \n",
              "  <svg xmlns=\"http://www.w3.org/2000/svg\" height=\"24px\"viewBox=\"0 0 24 24\"\n",
              "       width=\"24px\">\n",
              "    <path d=\"M0 0h24v24H0V0z\" fill=\"none\"/>\n",
              "    <path d=\"M18.56 5.44l.94 2.06.94-2.06 2.06-.94-2.06-.94-.94-2.06-.94 2.06-2.06.94zm-11 1L8.5 8.5l.94-2.06 2.06-.94-2.06-.94L8.5 2.5l-.94 2.06-2.06.94zm10 10l.94 2.06.94-2.06 2.06-.94-2.06-.94-.94-2.06-.94 2.06-2.06.94z\"/><path d=\"M17.41 7.96l-1.37-1.37c-.4-.4-.92-.59-1.43-.59-.52 0-1.04.2-1.43.59L10.3 9.45l-7.72 7.72c-.78.78-.78 2.05 0 2.83L4 21.41c.39.39.9.59 1.41.59.51 0 1.02-.2 1.41-.59l7.78-7.78 2.81-2.81c.8-.78.8-2.07 0-2.86zM5.41 20L4 18.59l7.72-7.72 1.47 1.35L5.41 20z\"/>\n",
              "  </svg>\n",
              "      </button>\n",
              "      \n",
              "  <style>\n",
              "    .colab-df-container {\n",
              "      display:flex;\n",
              "      flex-wrap:wrap;\n",
              "      gap: 12px;\n",
              "    }\n",
              "\n",
              "    .colab-df-convert {\n",
              "      background-color: #E8F0FE;\n",
              "      border: none;\n",
              "      border-radius: 50%;\n",
              "      cursor: pointer;\n",
              "      display: none;\n",
              "      fill: #1967D2;\n",
              "      height: 32px;\n",
              "      padding: 0 0 0 0;\n",
              "      width: 32px;\n",
              "    }\n",
              "\n",
              "    .colab-df-convert:hover {\n",
              "      background-color: #E2EBFA;\n",
              "      box-shadow: 0px 1px 2px rgba(60, 64, 67, 0.3), 0px 1px 3px 1px rgba(60, 64, 67, 0.15);\n",
              "      fill: #174EA6;\n",
              "    }\n",
              "\n",
              "    [theme=dark] .colab-df-convert {\n",
              "      background-color: #3B4455;\n",
              "      fill: #D2E3FC;\n",
              "    }\n",
              "\n",
              "    [theme=dark] .colab-df-convert:hover {\n",
              "      background-color: #434B5C;\n",
              "      box-shadow: 0px 1px 3px 1px rgba(0, 0, 0, 0.15);\n",
              "      filter: drop-shadow(0px 1px 2px rgba(0, 0, 0, 0.3));\n",
              "      fill: #FFFFFF;\n",
              "    }\n",
              "  </style>\n",
              "\n",
              "      <script>\n",
              "        const buttonEl =\n",
              "          document.querySelector('#df-7e8b2e5a-9399-4461-8679-9c4dfecef8b4 button.colab-df-convert');\n",
              "        buttonEl.style.display =\n",
              "          google.colab.kernel.accessAllowed ? 'block' : 'none';\n",
              "\n",
              "        async function convertToInteractive(key) {\n",
              "          const element = document.querySelector('#df-7e8b2e5a-9399-4461-8679-9c4dfecef8b4');\n",
              "          const dataTable =\n",
              "            await google.colab.kernel.invokeFunction('convertToInteractive',\n",
              "                                                     [key], {});\n",
              "          if (!dataTable) return;\n",
              "\n",
              "          const docLinkHtml = 'Like what you see? Visit the ' +\n",
              "            '<a target=\"_blank\" href=https://colab.research.google.com/notebooks/data_table.ipynb>data table notebook</a>'\n",
              "            + ' to learn more about interactive tables.';\n",
              "          element.innerHTML = '';\n",
              "          dataTable['output_type'] = 'display_data';\n",
              "          await google.colab.output.renderOutput(dataTable, element);\n",
              "          const docLink = document.createElement('div');\n",
              "          docLink.innerHTML = docLinkHtml;\n",
              "          element.appendChild(docLink);\n",
              "        }\n",
              "      </script>\n",
              "    </div>\n",
              "  </div>\n",
              "  "
            ],
            "text/plain": [
              "               raw  normalized\n",
              "lorenz    0.967057    1.000000\n",
              "baseline  0.125138    0.129401\n",
              "model     0.193120    0.199699"
            ]
          },
          "metadata": {},
          "execution_count": 36
        }
      ],
      "source": [
        "gini = ltv.gini_from_gain(gain[['lorenz', 'baseline', 'model']])\n",
        "gini"
      ]
    },
    {
      "cell_type": "markdown",
      "metadata": {
        "id": "S84RitIa9PBu"
      },
      "source": [
        "### Calibration"
      ]
    },
    {
      "cell_type": "code",
      "execution_count": null,
      "metadata": {
        "id": "X7sKbsEf6RvF"
      },
      "outputs": [],
      "source": [
        "df_decile = ltv.decile_stats(y_eval, y_pred)\n",
        "df_decile"
      ]
    },
    {
      "cell_type": "code",
      "execution_count": 38,
      "metadata": {
        "id": "DHdLqUqdL4hf",
        "colab": {
          "base_uri": "https://localhost:8080/",
          "height": 294
        },
        "outputId": "44c2dec6-f474-4d7e-acc0-19cddcaf7f57"
      },
      "outputs": [
        {
          "output_type": "display_data",
          "data": {
            "image/png": "[encoded data removed]",
            "text/plain": [
              "<Figure size 432x288 with 1 Axes>"
            ]
          },
          "metadata": {
            "image/png": {
              "width": 385,
              "height": 277
            }
          }
        }
      ],
      "source": [
        "ax = df_decile[['label_mean', 'pred_mean']].plot.bar(rot=0)\n",
        "\n",
        "ax.set_title('Decile Chart')\n",
        "ax.set_xlabel('Prediction bucket')\n",
        "ax.set_ylabel('Average bucket value')\n",
        "ax.legend(['Label', 'Prediction'], loc='upper left');"
      ]
    },
    {
      "cell_type": "markdown",
      "metadata": {
        "id": "nK6DQ89xU-d4"
      },
      "source": [
        "### Rank Correlation"
      ]
    },
    {
      "cell_type": "code",
      "execution_count": 39,
      "metadata": {
        "id": "I9qWGyY3WePz",
        "colab": {
          "base_uri": "https://localhost:8080/"
        },
        "outputId": "c35bc9cb-74b5-4b2a-fb56-3a51e569872c"
      },
      "outputs": [
        {
          "output_type": "execute_result",
          "data": {
            "text/plain": [
              "0.02529491487338011"
            ]
          },
          "metadata": {},
          "execution_count": 39
        }
      ],
      "source": [
        "def spearmanr(\n",
        "    x1: Sequence[float],\n",
        "    x2: Sequence[float]) -> float:\n",
        "\n",
        "  return stats.spearmanr(x1, x2, nan_policy='raise')[0]\n",
        "\n",
        "\n",
        "spearman_corr = spearmanr(y_eval, y_pred)\n",
        "spearman_corr"
      ]
    },
    {
      "cell_type": "markdown",
      "metadata": {
        "id": "-i_AbqhXcurk"
      },
      "source": [
        "### All metrics together"
      ]
    },
    {
      "cell_type": "markdown",
      "metadata": {
        "id": "8uHtLKk1x0IE"
      },
      "source": [
        "## Save"
      ]
    },
    {
      "cell_type": "code",
      "execution_count": 43,
      "metadata": {
        "id": "L-fMkqWIm6X6"
      },
      "outputs": [],
      "source": [
        "output_path = OUTPUT_CSV_FOLDER"
      ]
    },
    {
      "cell_type": "code",
      "execution_count": 44,
      "metadata": {
        "id": "jpJJAbWEm94h"
      },
      "outputs": [],
      "source": [
        "if not os.path.isdir(output_path):\n",
        "  os.makedirs(output_path)"
      ]
    },
    {
      "cell_type": "code",
      "execution_count": 45,
      "metadata": {
        "id": "y4LcrTLOm_4B"
      },
      "outputs": [],
      "source": [
        "output_file = os.path.join(output_path, '{}_regression_{}_{}.csv'.format(MODEL, LOSS, VERSION))"
      ]
    },
    {
      "cell_type": "code",
      "execution_count": 47,
      "metadata": {
        "id": "4WOF7a-dnENp"
      },
      "outputs": [],
      "source": [
        "df_metrics.to_csv(output_file, index=False)"
      ]
    }
  ],
  "metadata": {
    "colab": {
      "collapsed_sections": [],
      "name": "SET regression.ipynb",
      "provenance": []
    },
    "kernelspec": {
      "display_name": "Python 3",
      "name": "python3"
    }
  },
  "nbformat": 4,
  "nbformat_minor": 0
}